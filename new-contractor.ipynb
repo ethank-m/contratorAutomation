{
 "cells": [
  {
   "cell_type": "markdown",
   "metadata": {},
   "source": [
    "\n",
    "\n",
    "Add Gabrielle to the Budget spreadsheet for RevOps Actuals \n",
    "\n",
    "Form in ServiceNow \n",
    "\n",
    "Note in Teams \n",
    "\n",
    "Added to contractor list  \n",
    "\n",
    "ICCA - signed and uploaded \n",
    "\n",
    "RateLetter uploaded \n",
    "\n",
    "Background check (DONE BY FORTITUDE) "
   ]
  },
  {
   "cell_type": "markdown",
   "metadata": {},
   "source": [
    "Build template: \n",
    "inputs to fill in these variables\n",
    "\n",
    "\n",
    "Name: NAME\n",
    "\n",
    "NAME (independent) is joining the TEAM/PROJECT.  He/She will need DESCRIBE SYTESTEM SOFTWARE ETC\n",
    "\n",
    "Start Date: DATE\n",
    "\n",
    "Manager: MANAGER\n",
    "\n",
    "Type: Contract\n",
    "\n",
    "Role: ROLE\n",
    "\n",
    "Department:  DEPARTMENT\n",
    "\n",
    "IT setup: DESCRIBE SYTESTEM SOFTWARE ETC\n",
    "\n",
    "Hardware: DELL or MAC\n",
    "\n",
    "Pax8 Email: FIRSTINITIALLAST.c@pax8.com\n",
    "\n",
    "Home address: ADDRESS\n",
    "\n",
    "Cell: PHONE\n",
    "\n",
    "Home email: HOME EMAIL\n"
   ]
  },
  {
   "cell_type": "code",
   "execution_count": null,
   "metadata": {},
   "outputs": [],
   "source": []
  }
 ],
 "metadata": {
  "kernelspec": {
   "display_name": "Python 3",
   "language": "python",
   "name": "python3"
  },
  "language_info": {
   "codemirror_mode": {
    "name": "ipython",
    "version": 3
   },
   "file_extension": ".py",
   "mimetype": "text/x-python",
   "name": "python",
   "nbconvert_exporter": "python",
   "pygments_lexer": "ipython3",
   "version": "3.8.3"
  }
 },
 "nbformat": 4,
 "nbformat_minor": 4
}
